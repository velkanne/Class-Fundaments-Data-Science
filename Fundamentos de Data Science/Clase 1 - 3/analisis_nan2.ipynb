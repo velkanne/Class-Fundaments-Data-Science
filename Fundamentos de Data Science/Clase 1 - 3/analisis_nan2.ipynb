{
 "cells": [
  {
   "cell_type": "markdown",
   "metadata": {},
   "source": [
    "# Análisis de Datos Socioeconómicos y de Salud\n",
    "## Modelo Predictivo con RandomForest y XGBoost"
   ]
  },
  {
   "cell_type": "markdown",
   "metadata": {},
   "source": [
    "En este notebook, se realiza un análisis exhaustivo del dataset `nan2.csv`. El proceso incluye: \n",
    "1. Una limpieza de datos rigurosa para manejar la gran cantidad de valores nulos y corregir datos erróneos (ej. edades negativas).\n",
    "2. Visualización de los datos limpios para obtener insights.\n",
    "3. Construcción y evaluación de dos modelos de Machine Learning (Random Forest y XGBoost) para predecir la presencia de enfermedades crónicas."
   ]
  },
  {
   "cell_type": "markdown",
   "metadata": {},
   "source": [
    "## 1. Instalación de Librerías"
   ]
  },
  {
   "cell_type": "code",
   "execution_count": 1,
   "metadata": {},
   "outputs": [
    {
     "name": "stdout",
     "output_type": "stream",
     "text": [
      "Requirement already satisfied: pandas in c:\\users\\ttvga\\anaconda3\\lib\\site-packages (2.2.2)\n",
      "Requirement already satisfied: scikit-learn in c:\\users\\ttvga\\anaconda3\\lib\\site-packages (1.5.1)\n",
      "Requirement already satisfied: matplotlib in c:\\users\\ttvga\\anaconda3\\lib\\site-packages (3.9.2)\n",
      "Requirement already satisfied: seaborn in c:\\users\\ttvga\\anaconda3\\lib\\site-packages (0.13.2)\n",
      "Requirement already satisfied: xgboost in c:\\users\\ttvga\\anaconda3\\lib\\site-packages (3.0.2)\n",
      "Requirement already satisfied: numpy>=1.26.0 in c:\\users\\ttvga\\anaconda3\\lib\\site-packages (from pandas) (1.26.4)\n",
      "Requirement already satisfied: python-dateutil>=2.8.2 in c:\\users\\ttvga\\anaconda3\\lib\\site-packages (from pandas) (2.9.0.post0)\n",
      "Requirement already satisfied: pytz>=2020.1 in c:\\users\\ttvga\\anaconda3\\lib\\site-packages (from pandas) (2024.1)\n",
      "Requirement already satisfied: tzdata>=2022.7 in c:\\users\\ttvga\\anaconda3\\lib\\site-packages (from pandas) (2023.3)\n",
      "Requirement already satisfied: scipy>=1.6.0 in c:\\users\\ttvga\\anaconda3\\lib\\site-packages (from scikit-learn) (1.13.1)\n",
      "Requirement already satisfied: joblib>=1.2.0 in c:\\users\\ttvga\\anaconda3\\lib\\site-packages (from scikit-learn) (1.4.2)\n",
      "Requirement already satisfied: threadpoolctl>=3.1.0 in c:\\users\\ttvga\\anaconda3\\lib\\site-packages (from scikit-learn) (3.5.0)\n",
      "Requirement already satisfied: contourpy>=1.0.1 in c:\\users\\ttvga\\anaconda3\\lib\\site-packages (from matplotlib) (1.2.0)\n",
      "Requirement already satisfied: cycler>=0.10 in c:\\users\\ttvga\\anaconda3\\lib\\site-packages (from matplotlib) (0.11.0)\n",
      "Requirement already satisfied: fonttools>=4.22.0 in c:\\users\\ttvga\\anaconda3\\lib\\site-packages (from matplotlib) (4.51.0)\n",
      "Requirement already satisfied: kiwisolver>=1.3.1 in c:\\users\\ttvga\\anaconda3\\lib\\site-packages (from matplotlib) (1.4.4)\n",
      "Requirement already satisfied: packaging>=20.0 in c:\\users\\ttvga\\anaconda3\\lib\\site-packages (from matplotlib) (24.1)\n",
      "Requirement already satisfied: pillow>=8 in c:\\users\\ttvga\\anaconda3\\lib\\site-packages (from matplotlib) (10.4.0)\n",
      "Requirement already satisfied: pyparsing>=2.3.1 in c:\\users\\ttvga\\anaconda3\\lib\\site-packages (from matplotlib) (3.1.2)\n",
      "Requirement already satisfied: six>=1.5 in c:\\users\\ttvga\\anaconda3\\lib\\site-packages (from python-dateutil>=2.8.2->pandas) (1.16.0)\n"
     ]
    }
   ],
   "source": [
    "import sys\n",
    "!{sys.executable} -m pip install pandas scikit-learn matplotlib seaborn xgboost"
   ]
  },
  {
   "cell_type": "markdown",
   "metadata": {},
   "source": [
    "## 2. Carga y Exploración Inicial de Datos"
   ]
  },
  {
   "cell_type": "code",
   "execution_count": 3,
   "metadata": {},
   "outputs": [
    {
     "name": "stdout",
     "output_type": "stream",
     "text": [
      "Muestra de datos:\n"
     ]
    },
    {
     "data": {
      "application/vnd.microsoft.datawrangler.viewer.v0+json": {
       "columns": [
        {
         "name": "index",
         "rawType": "int64",
         "type": "integer"
        },
        {
         "name": "edad",
         "rawType": "float64",
         "type": "float"
        },
        {
         "name": "ciudad",
         "rawType": "object",
         "type": "string"
        },
        {
         "name": "peso",
         "rawType": "float64",
         "type": "float"
        },
        {
         "name": "ingresos",
         "rawType": "float64",
         "type": "float"
        },
        {
         "name": "genero",
         "rawType": "object",
         "type": "string"
        },
        {
         "name": "nivel_educacional",
         "rawType": "object",
         "type": "string"
        },
        {
         "name": "fumador",
         "rawType": "object",
         "type": "unknown"
        },
        {
         "name": "actividad_fisica",
         "rawType": "object",
         "type": "string"
        },
        {
         "name": "estado_civil",
         "rawType": "object",
         "type": "string"
        },
        {
         "name": "horas_suenho",
         "rawType": "float64",
         "type": "float"
        },
        {
         "name": "enfermedades_cronicas",
         "rawType": "object",
         "type": "unknown"
        },
        {
         "name": "consumo_alcohol",
         "rawType": "object",
         "type": "string"
        },
        {
         "name": "uso_transporte",
         "rawType": "object",
         "type": "string"
        }
       ],
       "ref": "69f747d5-b38f-43bc-a754-d87e18c3853a",
       "rows": [
        [
         "0",
         "47.5",
         "Antofagasta",
         "76.9",
         null,
         "Masculino",
         "Técnica",
         "Sí",
         "Alta",
         "Separado/a",
         "5.4",
         null,
         "Nunca",
         "Público"
        ],
        [
         "1",
         "37.9",
         "Puerto Montt",
         "48.6",
         null,
         "Masculino",
         "Universitaria",
         "No",
         "Media",
         "Soltero/a",
         "7.3",
         "Sí",
         "Nunca",
         "Bicicleta/Pie"
        ],
        [
         "2",
         "49.7",
         "Antofagasta",
         "65.7",
         "287000.0",
         "Masculino",
         "Media",
         null,
         "Alta",
         "Casado/a",
         "6.9",
         "No",
         "Ocasional",
         "Bicicleta/Pie"
        ],
        [
         "3",
         "62.8",
         "Concepción",
         "73.6",
         "985000.0",
         "Femenino",
         "Técnica",
         "Sí",
         "Alta",
         "Viudo/a",
         "8.3",
         "No",
         "Ocasional",
         "Privado"
        ],
        [
         "4",
         "36.5",
         "Concepción",
         "72.2",
         "927000.0",
         "Masculino",
         "Universitaria",
         "Sí",
         "Media",
         "Soltero/a",
         "7.7",
         null,
         "Nunca",
         "Privado"
        ]
       ],
       "shape": {
        "columns": 13,
        "rows": 5
       }
      },
      "text/html": [
       "<div>\n",
       "<style scoped>\n",
       "    .dataframe tbody tr th:only-of-type {\n",
       "        vertical-align: middle;\n",
       "    }\n",
       "\n",
       "    .dataframe tbody tr th {\n",
       "        vertical-align: top;\n",
       "    }\n",
       "\n",
       "    .dataframe thead th {\n",
       "        text-align: right;\n",
       "    }\n",
       "</style>\n",
       "<table border=\"1\" class=\"dataframe\">\n",
       "  <thead>\n",
       "    <tr style=\"text-align: right;\">\n",
       "      <th></th>\n",
       "      <th>edad</th>\n",
       "      <th>ciudad</th>\n",
       "      <th>peso</th>\n",
       "      <th>ingresos</th>\n",
       "      <th>genero</th>\n",
       "      <th>nivel_educacional</th>\n",
       "      <th>fumador</th>\n",
       "      <th>actividad_fisica</th>\n",
       "      <th>estado_civil</th>\n",
       "      <th>horas_suenho</th>\n",
       "      <th>enfermedades_cronicas</th>\n",
       "      <th>consumo_alcohol</th>\n",
       "      <th>uso_transporte</th>\n",
       "    </tr>\n",
       "  </thead>\n",
       "  <tbody>\n",
       "    <tr>\n",
       "      <th>0</th>\n",
       "      <td>47.5</td>\n",
       "      <td>Antofagasta</td>\n",
       "      <td>76.9</td>\n",
       "      <td>NaN</td>\n",
       "      <td>Masculino</td>\n",
       "      <td>Técnica</td>\n",
       "      <td>Sí</td>\n",
       "      <td>Alta</td>\n",
       "      <td>Separado/a</td>\n",
       "      <td>5.4</td>\n",
       "      <td>NaN</td>\n",
       "      <td>Nunca</td>\n",
       "      <td>Público</td>\n",
       "    </tr>\n",
       "    <tr>\n",
       "      <th>1</th>\n",
       "      <td>37.9</td>\n",
       "      <td>Puerto Montt</td>\n",
       "      <td>48.6</td>\n",
       "      <td>NaN</td>\n",
       "      <td>Masculino</td>\n",
       "      <td>Universitaria</td>\n",
       "      <td>No</td>\n",
       "      <td>Media</td>\n",
       "      <td>Soltero/a</td>\n",
       "      <td>7.3</td>\n",
       "      <td>Sí</td>\n",
       "      <td>Nunca</td>\n",
       "      <td>Bicicleta/Pie</td>\n",
       "    </tr>\n",
       "    <tr>\n",
       "      <th>2</th>\n",
       "      <td>49.7</td>\n",
       "      <td>Antofagasta</td>\n",
       "      <td>65.7</td>\n",
       "      <td>287000.0</td>\n",
       "      <td>Masculino</td>\n",
       "      <td>Media</td>\n",
       "      <td>NaN</td>\n",
       "      <td>Alta</td>\n",
       "      <td>Casado/a</td>\n",
       "      <td>6.9</td>\n",
       "      <td>No</td>\n",
       "      <td>Ocasional</td>\n",
       "      <td>Bicicleta/Pie</td>\n",
       "    </tr>\n",
       "    <tr>\n",
       "      <th>3</th>\n",
       "      <td>62.8</td>\n",
       "      <td>Concepción</td>\n",
       "      <td>73.6</td>\n",
       "      <td>985000.0</td>\n",
       "      <td>Femenino</td>\n",
       "      <td>Técnica</td>\n",
       "      <td>Sí</td>\n",
       "      <td>Alta</td>\n",
       "      <td>Viudo/a</td>\n",
       "      <td>8.3</td>\n",
       "      <td>No</td>\n",
       "      <td>Ocasional</td>\n",
       "      <td>Privado</td>\n",
       "    </tr>\n",
       "    <tr>\n",
       "      <th>4</th>\n",
       "      <td>36.5</td>\n",
       "      <td>Concepción</td>\n",
       "      <td>72.2</td>\n",
       "      <td>927000.0</td>\n",
       "      <td>Masculino</td>\n",
       "      <td>Universitaria</td>\n",
       "      <td>Sí</td>\n",
       "      <td>Media</td>\n",
       "      <td>Soltero/a</td>\n",
       "      <td>7.7</td>\n",
       "      <td>NaN</td>\n",
       "      <td>Nunca</td>\n",
       "      <td>Privado</td>\n",
       "    </tr>\n",
       "  </tbody>\n",
       "</table>\n",
       "</div>"
      ],
      "text/plain": [
       "   edad        ciudad  peso  ingresos     genero nivel_educacional fumador  \\\n",
       "0  47.5   Antofagasta  76.9       NaN  Masculino           Técnica      Sí   \n",
       "1  37.9  Puerto Montt  48.6       NaN  Masculino     Universitaria      No   \n",
       "2  49.7   Antofagasta  65.7  287000.0  Masculino             Media     NaN   \n",
       "3  62.8    Concepción  73.6  985000.0   Femenino           Técnica      Sí   \n",
       "4  36.5    Concepción  72.2  927000.0  Masculino     Universitaria      Sí   \n",
       "\n",
       "  actividad_fisica estado_civil  horas_suenho enfermedades_cronicas  \\\n",
       "0             Alta   Separado/a           5.4                   NaN   \n",
       "1            Media    Soltero/a           7.3                    Sí   \n",
       "2             Alta     Casado/a           6.9                    No   \n",
       "3             Alta      Viudo/a           8.3                    No   \n",
       "4            Media    Soltero/a           7.7                   NaN   \n",
       "\n",
       "  consumo_alcohol uso_transporte  \n",
       "0           Nunca        Público  \n",
       "1           Nunca  Bicicleta/Pie  \n",
       "2       Ocasional  Bicicleta/Pie  \n",
       "3       Ocasional        Privado  \n",
       "4           Nunca        Privado  "
      ]
     },
     "metadata": {},
     "output_type": "display_data"
    },
    {
     "name": "stdout",
     "output_type": "stream",
     "text": [
      "Información General y Tipos de Datos:\n",
      "<class 'pandas.core.frame.DataFrame'>\n",
      "RangeIndex: 2000 entries, 0 to 1999\n",
      "Data columns (total 13 columns):\n",
      " #   Column                 Non-Null Count  Dtype  \n",
      "---  ------                 --------------  -----  \n",
      " 0   edad                   1855 non-null   float64\n",
      " 1   ciudad                 2000 non-null   object \n",
      " 2   peso                   1883 non-null   float64\n",
      " 3   ingresos               1857 non-null   float64\n",
      " 4   genero                 1867 non-null   object \n",
      " 5   nivel_educacional      1815 non-null   object \n",
      " 6   fumador                1857 non-null   object \n",
      " 7   actividad_fisica       1818 non-null   object \n",
      " 8   estado_civil           1862 non-null   object \n",
      " 9   horas_suenho           1827 non-null   float64\n",
      " 10  enfermedades_cronicas  1883 non-null   object \n",
      " 11  consumo_alcohol        1898 non-null   object \n",
      " 12  uso_transporte         1805 non-null   object \n",
      "dtypes: float64(4), object(9)\n",
      "memory usage: 203.3+ KB\n"
     ]
    }
   ],
   "source": [
    "import pandas as pd\n",
    "import numpy as np\n",
    "import matplotlib.pyplot as plt\n",
    "import seaborn as sns\n",
    "\n",
    "# Cargar los datos\n",
    "df = pd.read_csv('Hojas/nan2.csv')\n",
    "\n",
    "# Mostrar las primeras filas y la información general\n",
    "print('Muestra de datos:')\n",
    "display(df.head())\n",
    "print('Información General y Tipos de Datos:')\n",
    "df.info()"
   ]
  },
  {
   "cell_type": "markdown",
   "metadata": {},
   "source": [
    "## 3. Limpieza y Preprocesamiento de Datos\n",
    "Esta es la fase más crítica. El dataset tiene múltiples problemas: valores nulos en casi todas las columnas y datos incorrectos como edades negativas."
   ]
  },
  {
   "cell_type": "markdown",
   "metadata": {},
   "source": [
    "### 3.1. Corregir Edades Negativas"
   ]
  },
  {
   "cell_type": "code",
   "execution_count": 4,
   "metadata": {},
   "outputs": [
    {
     "name": "stdout",
     "output_type": "stream",
     "text": [
      "Edades negativas corregidas.\n"
     ]
    }
   ],
   "source": [
    "# Convertir las edades negativas a positivas usando el valor absoluto\n",
    "df['edad'] = df['edad'].abs()\n",
    "print(\"Edades negativas corregidas.\")"
   ]
  },
  {
   "cell_type": "markdown",
   "metadata": {},
   "source": [
    "### 3.2. Estrategia para Valores Faltantes (Nulos)\n",
    "- **Variables Numéricas:** Rellenaremos los nulos con la **mediana** de cada columna, ya que es más robusta a valores atípicos que la media.\n",
    "- **Variables Categóricas:** Rellenaremos los nulos con la **moda** (el valor más frecuente) de cada columna."
   ]
  },
  {
   "cell_type": "code",
   "execution_count": 5,
   "metadata": {},
   "outputs": [
    {
     "name": "stdout",
     "output_type": "stream",
     "text": [
      "Verificación de valores nulos después de la imputación:\n",
      "edad                     0\n",
      "ciudad                   0\n",
      "peso                     0\n",
      "ingresos                 0\n",
      "genero                   0\n",
      "nivel_educacional        0\n",
      "fumador                  0\n",
      "actividad_fisica         0\n",
      "estado_civil             0\n",
      "horas_suenho             0\n",
      "enfermedades_cronicas    0\n",
      "consumo_alcohol          0\n",
      "uso_transporte           0\n",
      "dtype: int64\n"
     ]
    },
    {
     "name": "stderr",
     "output_type": "stream",
     "text": [
      "C:\\Users\\ttvga\\AppData\\Local\\Temp\\ipykernel_19644\\2272193630.py:8: FutureWarning: A value is trying to be set on a copy of a DataFrame or Series through chained assignment using an inplace method.\n",
      "The behavior will change in pandas 3.0. This inplace method will never work because the intermediate object on which we are setting values always behaves as a copy.\n",
      "\n",
      "For example, when doing 'df[col].method(value, inplace=True)', try using 'df.method({col: value}, inplace=True)' or df[col] = df[col].method(value) instead, to perform the operation inplace on the original object.\n",
      "\n",
      "\n",
      "  df[col].fillna(median_val, inplace=True)\n",
      "C:\\Users\\ttvga\\AppData\\Local\\Temp\\ipykernel_19644\\2272193630.py:13: FutureWarning: A value is trying to be set on a copy of a DataFrame or Series through chained assignment using an inplace method.\n",
      "The behavior will change in pandas 3.0. This inplace method will never work because the intermediate object on which we are setting values always behaves as a copy.\n",
      "\n",
      "For example, when doing 'df[col].method(value, inplace=True)', try using 'df.method({col: value}, inplace=True)' or df[col] = df[col].method(value) instead, to perform the operation inplace on the original object.\n",
      "\n",
      "\n",
      "  df[col].fillna(mode_val, inplace=True)\n"
     ]
    }
   ],
   "source": [
    "# Identificar columnas numéricas y categóricas\n",
    "numeric_cols = df.select_dtypes(include=np.number).columns\n",
    "categorical_cols = df.select_dtypes(include='object').columns\n",
    "\n",
    "# Imputar valores numéricos con la mediana\n",
    "for col in numeric_cols:\n",
    "    median_val = df[col].median()\n",
    "    df[col].fillna(median_val, inplace=True)\n",
    "\n",
    "# Imputar valores categóricos con la moda\n",
    "for col in categorical_cols:\n",
    "    mode_val = df[col].mode()[0]\n",
    "    df[col].fillna(mode_val, inplace=True)\n",
    "\n",
    "print(\"Verificación de valores nulos después de la imputación:\")\n",
    "print(df.isnull().sum())"
   ]
  },
  {
   "cell_type": "markdown",
   "metadata": {},
   "source": [
    "### 3.3. Codificación de Variables Categóricas\n",
    "Convertiremos las variables categóricas a un formato numérico usando One-Hot Encoding para que los modelos puedan procesarlas."
   ]
  },
  {
   "cell_type": "code",
   "execution_count": 6,
   "metadata": {},
   "outputs": [
    {
     "name": "stdout",
     "output_type": "stream",
     "text": [
      "Dimensiones del dataset después de la codificación: (2000, 26)\n",
      "Vista previa del dataset procesado:\n"
     ]
    },
    {
     "data": {
      "application/vnd.microsoft.datawrangler.viewer.v0+json": {
       "columns": [
        {
         "name": "index",
         "rawType": "int64",
         "type": "integer"
        },
        {
         "name": "edad",
         "rawType": "float64",
         "type": "float"
        },
        {
         "name": "peso",
         "rawType": "float64",
         "type": "float"
        },
        {
         "name": "ingresos",
         "rawType": "float64",
         "type": "float"
        },
        {
         "name": "horas_suenho",
         "rawType": "float64",
         "type": "float"
        },
        {
         "name": "ciudad_Concepción",
         "rawType": "bool",
         "type": "boolean"
        },
        {
         "name": "ciudad_La Serena",
         "rawType": "bool",
         "type": "boolean"
        },
        {
         "name": "ciudad_Puerto Montt",
         "rawType": "bool",
         "type": "boolean"
        },
        {
         "name": "ciudad_Santiago",
         "rawType": "bool",
         "type": "boolean"
        },
        {
         "name": "ciudad_Temuco",
         "rawType": "bool",
         "type": "boolean"
        },
        {
         "name": "ciudad_Valdivia",
         "rawType": "bool",
         "type": "boolean"
        },
        {
         "name": "ciudad_Valparaíso",
         "rawType": "bool",
         "type": "boolean"
        },
        {
         "name": "genero_Masculino",
         "rawType": "bool",
         "type": "boolean"
        },
        {
         "name": "nivel_educacional_Media",
         "rawType": "bool",
         "type": "boolean"
        },
        {
         "name": "nivel_educacional_Técnica",
         "rawType": "bool",
         "type": "boolean"
        },
        {
         "name": "nivel_educacional_Universitaria",
         "rawType": "bool",
         "type": "boolean"
        },
        {
         "name": "fumador_Sí",
         "rawType": "bool",
         "type": "boolean"
        },
        {
         "name": "actividad_fisica_Baja",
         "rawType": "bool",
         "type": "boolean"
        },
        {
         "name": "actividad_fisica_Media",
         "rawType": "bool",
         "type": "boolean"
        },
        {
         "name": "estado_civil_Separado/a",
         "rawType": "bool",
         "type": "boolean"
        },
        {
         "name": "estado_civil_Soltero/a",
         "rawType": "bool",
         "type": "boolean"
        },
        {
         "name": "estado_civil_Viudo/a",
         "rawType": "bool",
         "type": "boolean"
        },
        {
         "name": "enfermedades_cronicas_Sí",
         "rawType": "bool",
         "type": "boolean"
        },
        {
         "name": "consumo_alcohol_Nunca",
         "rawType": "bool",
         "type": "boolean"
        },
        {
         "name": "consumo_alcohol_Ocasional",
         "rawType": "bool",
         "type": "boolean"
        },
        {
         "name": "uso_transporte_Privado",
         "rawType": "bool",
         "type": "boolean"
        },
        {
         "name": "uso_transporte_Público",
         "rawType": "bool",
         "type": "boolean"
        }
       ],
       "ref": "f2ebef6e-d26a-4f86-aff8-8503475dbe89",
       "rows": [
        [
         "0",
         "47.5",
         "76.9",
         "790000.0",
         "5.4",
         "False",
         "False",
         "False",
         "False",
         "False",
         "False",
         "False",
         "True",
         "False",
         "True",
         "False",
         "True",
         "False",
         "False",
         "True",
         "False",
         "False",
         "False",
         "True",
         "False",
         "False",
         "True"
        ],
        [
         "1",
         "37.9",
         "48.6",
         "790000.0",
         "7.3",
         "False",
         "False",
         "True",
         "False",
         "False",
         "False",
         "False",
         "True",
         "False",
         "False",
         "True",
         "False",
         "False",
         "True",
         "False",
         "True",
         "False",
         "True",
         "True",
         "False",
         "False",
         "False"
        ],
        [
         "2",
         "49.7",
         "65.7",
         "287000.0",
         "6.9",
         "False",
         "False",
         "False",
         "False",
         "False",
         "False",
         "False",
         "True",
         "True",
         "False",
         "False",
         "False",
         "False",
         "False",
         "False",
         "False",
         "False",
         "False",
         "False",
         "True",
         "False",
         "False"
        ],
        [
         "3",
         "62.8",
         "73.6",
         "985000.0",
         "8.3",
         "True",
         "False",
         "False",
         "False",
         "False",
         "False",
         "False",
         "False",
         "False",
         "True",
         "False",
         "True",
         "False",
         "False",
         "False",
         "False",
         "True",
         "False",
         "False",
         "True",
         "True",
         "False"
        ],
        [
         "4",
         "36.5",
         "72.2",
         "927000.0",
         "7.7",
         "True",
         "False",
         "False",
         "False",
         "False",
         "False",
         "False",
         "True",
         "False",
         "False",
         "True",
         "True",
         "False",
         "True",
         "False",
         "True",
         "False",
         "False",
         "True",
         "False",
         "True",
         "False"
        ]
       ],
       "shape": {
        "columns": 26,
        "rows": 5
       }
      },
      "text/html": [
       "<div>\n",
       "<style scoped>\n",
       "    .dataframe tbody tr th:only-of-type {\n",
       "        vertical-align: middle;\n",
       "    }\n",
       "\n",
       "    .dataframe tbody tr th {\n",
       "        vertical-align: top;\n",
       "    }\n",
       "\n",
       "    .dataframe thead th {\n",
       "        text-align: right;\n",
       "    }\n",
       "</style>\n",
       "<table border=\"1\" class=\"dataframe\">\n",
       "  <thead>\n",
       "    <tr style=\"text-align: right;\">\n",
       "      <th></th>\n",
       "      <th>edad</th>\n",
       "      <th>peso</th>\n",
       "      <th>ingresos</th>\n",
       "      <th>horas_suenho</th>\n",
       "      <th>ciudad_Concepción</th>\n",
       "      <th>ciudad_La Serena</th>\n",
       "      <th>ciudad_Puerto Montt</th>\n",
       "      <th>ciudad_Santiago</th>\n",
       "      <th>ciudad_Temuco</th>\n",
       "      <th>ciudad_Valdivia</th>\n",
       "      <th>...</th>\n",
       "      <th>actividad_fisica_Baja</th>\n",
       "      <th>actividad_fisica_Media</th>\n",
       "      <th>estado_civil_Separado/a</th>\n",
       "      <th>estado_civil_Soltero/a</th>\n",
       "      <th>estado_civil_Viudo/a</th>\n",
       "      <th>enfermedades_cronicas_Sí</th>\n",
       "      <th>consumo_alcohol_Nunca</th>\n",
       "      <th>consumo_alcohol_Ocasional</th>\n",
       "      <th>uso_transporte_Privado</th>\n",
       "      <th>uso_transporte_Público</th>\n",
       "    </tr>\n",
       "  </thead>\n",
       "  <tbody>\n",
       "    <tr>\n",
       "      <th>0</th>\n",
       "      <td>47.5</td>\n",
       "      <td>76.9</td>\n",
       "      <td>790000.0</td>\n",
       "      <td>5.4</td>\n",
       "      <td>False</td>\n",
       "      <td>False</td>\n",
       "      <td>False</td>\n",
       "      <td>False</td>\n",
       "      <td>False</td>\n",
       "      <td>False</td>\n",
       "      <td>...</td>\n",
       "      <td>False</td>\n",
       "      <td>False</td>\n",
       "      <td>True</td>\n",
       "      <td>False</td>\n",
       "      <td>False</td>\n",
       "      <td>False</td>\n",
       "      <td>True</td>\n",
       "      <td>False</td>\n",
       "      <td>False</td>\n",
       "      <td>True</td>\n",
       "    </tr>\n",
       "    <tr>\n",
       "      <th>1</th>\n",
       "      <td>37.9</td>\n",
       "      <td>48.6</td>\n",
       "      <td>790000.0</td>\n",
       "      <td>7.3</td>\n",
       "      <td>False</td>\n",
       "      <td>False</td>\n",
       "      <td>True</td>\n",
       "      <td>False</td>\n",
       "      <td>False</td>\n",
       "      <td>False</td>\n",
       "      <td>...</td>\n",
       "      <td>False</td>\n",
       "      <td>True</td>\n",
       "      <td>False</td>\n",
       "      <td>True</td>\n",
       "      <td>False</td>\n",
       "      <td>True</td>\n",
       "      <td>True</td>\n",
       "      <td>False</td>\n",
       "      <td>False</td>\n",
       "      <td>False</td>\n",
       "    </tr>\n",
       "    <tr>\n",
       "      <th>2</th>\n",
       "      <td>49.7</td>\n",
       "      <td>65.7</td>\n",
       "      <td>287000.0</td>\n",
       "      <td>6.9</td>\n",
       "      <td>False</td>\n",
       "      <td>False</td>\n",
       "      <td>False</td>\n",
       "      <td>False</td>\n",
       "      <td>False</td>\n",
       "      <td>False</td>\n",
       "      <td>...</td>\n",
       "      <td>False</td>\n",
       "      <td>False</td>\n",
       "      <td>False</td>\n",
       "      <td>False</td>\n",
       "      <td>False</td>\n",
       "      <td>False</td>\n",
       "      <td>False</td>\n",
       "      <td>True</td>\n",
       "      <td>False</td>\n",
       "      <td>False</td>\n",
       "    </tr>\n",
       "    <tr>\n",
       "      <th>3</th>\n",
       "      <td>62.8</td>\n",
       "      <td>73.6</td>\n",
       "      <td>985000.0</td>\n",
       "      <td>8.3</td>\n",
       "      <td>True</td>\n",
       "      <td>False</td>\n",
       "      <td>False</td>\n",
       "      <td>False</td>\n",
       "      <td>False</td>\n",
       "      <td>False</td>\n",
       "      <td>...</td>\n",
       "      <td>False</td>\n",
       "      <td>False</td>\n",
       "      <td>False</td>\n",
       "      <td>False</td>\n",
       "      <td>True</td>\n",
       "      <td>False</td>\n",
       "      <td>False</td>\n",
       "      <td>True</td>\n",
       "      <td>True</td>\n",
       "      <td>False</td>\n",
       "    </tr>\n",
       "    <tr>\n",
       "      <th>4</th>\n",
       "      <td>36.5</td>\n",
       "      <td>72.2</td>\n",
       "      <td>927000.0</td>\n",
       "      <td>7.7</td>\n",
       "      <td>True</td>\n",
       "      <td>False</td>\n",
       "      <td>False</td>\n",
       "      <td>False</td>\n",
       "      <td>False</td>\n",
       "      <td>False</td>\n",
       "      <td>...</td>\n",
       "      <td>False</td>\n",
       "      <td>True</td>\n",
       "      <td>False</td>\n",
       "      <td>True</td>\n",
       "      <td>False</td>\n",
       "      <td>False</td>\n",
       "      <td>True</td>\n",
       "      <td>False</td>\n",
       "      <td>True</td>\n",
       "      <td>False</td>\n",
       "    </tr>\n",
       "  </tbody>\n",
       "</table>\n",
       "<p>5 rows × 26 columns</p>\n",
       "</div>"
      ],
      "text/plain": [
       "   edad  peso  ingresos  horas_suenho  ciudad_Concepción  ciudad_La Serena  \\\n",
       "0  47.5  76.9  790000.0           5.4              False             False   \n",
       "1  37.9  48.6  790000.0           7.3              False             False   \n",
       "2  49.7  65.7  287000.0           6.9              False             False   \n",
       "3  62.8  73.6  985000.0           8.3               True             False   \n",
       "4  36.5  72.2  927000.0           7.7               True             False   \n",
       "\n",
       "   ciudad_Puerto Montt  ciudad_Santiago  ciudad_Temuco  ciudad_Valdivia  ...  \\\n",
       "0                False            False          False            False  ...   \n",
       "1                 True            False          False            False  ...   \n",
       "2                False            False          False            False  ...   \n",
       "3                False            False          False            False  ...   \n",
       "4                False            False          False            False  ...   \n",
       "\n",
       "   actividad_fisica_Baja  actividad_fisica_Media  estado_civil_Separado/a  \\\n",
       "0                  False                   False                     True   \n",
       "1                  False                    True                    False   \n",
       "2                  False                   False                    False   \n",
       "3                  False                   False                    False   \n",
       "4                  False                    True                    False   \n",
       "\n",
       "   estado_civil_Soltero/a  estado_civil_Viudo/a  enfermedades_cronicas_Sí  \\\n",
       "0                   False                 False                     False   \n",
       "1                    True                 False                      True   \n",
       "2                   False                 False                     False   \n",
       "3                   False                  True                     False   \n",
       "4                    True                 False                     False   \n",
       "\n",
       "   consumo_alcohol_Nunca  consumo_alcohol_Ocasional  uso_transporte_Privado  \\\n",
       "0                   True                      False                   False   \n",
       "1                   True                      False                   False   \n",
       "2                  False                       True                   False   \n",
       "3                  False                       True                    True   \n",
       "4                   True                      False                    True   \n",
       "\n",
       "   uso_transporte_Público  \n",
       "0                    True  \n",
       "1                   False  \n",
       "2                   False  \n",
       "3                   False  \n",
       "4                   False  \n",
       "\n",
       "[5 rows x 26 columns]"
      ]
     },
     "metadata": {},
     "output_type": "display_data"
    }
   ],
   "source": [
    "# Aplicar One-Hot Encoding\n",
    "df_processed = pd.get_dummies(df, drop_first=True)\n",
    "\n",
    "print('Dimensiones del dataset después de la codificación:', df_processed.shape)\n",
    "print('Vista previa del dataset procesado:')\n",
    "display(df_processed.head())"
   ]
  },
  {
   "cell_type": "markdown",
   "metadata": {},
   "source": [
    "## 4. Visualización de Datos"
   ]
  },
  {
   "cell_type": "code",
   "execution_count": 7,
   "metadata": {},
   "outputs": [
    {
     "data": {
      "image/png": "[encoded data removed]",
      "text/plain": [
       "<Figure size 1000x600 with 1 Axes>"
      ]
     },
     "metadata": {},
     "output_type": "display_data"
    },
    {
     "data": {
      "image/png": "[encoded data removed]",
      "text/plain": [
       "<Figure size 1000x600 with 1 Axes>"
      ]
     },
     "metadata": {},
     "output_type": "display_data"
    },
    {
     "data": {
      "image/png": "[encoded data removed]",
      "text/plain": [
       "<Figure size 800x600 with 1 Axes>"
      ]
     },
     "metadata": {},
     "output_type": "display_data"
    }
   ],
   "source": [
    "sns.set_style('whitegrid')\n",
    "\n",
    "# Gráfico 1: Distribución de Ingresos\n",
    "plt.figure(figsize=(10, 6))\n",
    "sns.histplot(df['ingresos'], kde=True, bins=30)\n",
    "plt.title('Distribución de Ingresos')\n",
    "plt.xlabel('Ingresos')\n",
    "plt.ylabel('Frecuencia')\n",
    "plt.show()\n",
    "\n",
    "# Gráfico 2: Nivel Educacional\n",
    "plt.figure(figsize=(10, 6))\n",
    "sns.countplot(y='nivel_educacional', data=df, order=df['nivel_educacional'].value_counts().index)\n",
    "plt.title('Conteo por Nivel Educacional')\n",
    "plt.xlabel('Cantidad')\n",
    "plt.ylabel('Nivel Educacional')\n",
    "plt.show()\n",
    "\n",
    "# Gráfico 3: Enfermedades Crónicas vs Fumador\n",
    "plt.figure(figsize=(8, 6))\n",
    "sns.countplot(x='enfermedades_cronicas', hue='fumador', data=df)\n",
    "plt.title('Relación entre Enfermedades Crónicas y Hábito de Fumar')\n",
    "plt.xlabel('Tiene Enfermedades Crónicas')\n",
    "plt.ylabel('Cantidad')\n",
    "plt.show()"
   ]
  },
  {
   "cell_type": "markdown",
   "metadata": {},
   "source": [
    "## 5. Modelos Predictivos\n",
    "El objetivo será predecir si una persona tiene **enfermedades crónicas** (`enfermedades_cronicas_Sí`)."
   ]
  },
  {
   "cell_type": "code",
   "execution_count": 8,
   "metadata": {},
   "outputs": [],
   "source": [
    "from sklearn.model_selection import train_test_split\n",
    "from sklearn.preprocessing import StandardScaler\n",
    "from sklearn.ensemble import RandomForestClassifier\n",
    "from xgboost import XGBClassifier\n",
    "from sklearn.metrics import classification_report, accuracy_score\n",
    "\n",
    "# Definir X e y\n",
    "X = df_processed.drop('enfermedades_cronicas_Sí', axis=1)\n",
    "y = df_processed['enfermedades_cronicas_Sí']\n",
    "\n",
    "# Dividir datos en entrenamiento y prueba\n",
    "X_train, X_test, y_train, y_test = train_test_split(X, y, test_size=0.25, random_state=42, stratify=y)\n",
    "\n",
    "# Escalar características\n",
    "scaler = StandardScaler()\n",
    "X_train_scaled = scaler.fit_transform(X_train)\n",
    "X_test_scaled = scaler.transform(X_test)"
   ]
  },
  {
   "cell_type": "markdown",
   "metadata": {},
   "source": [
    "### 5.1. Modelo 1: Random Forest Classifier"
   ]
  },
  {
   "cell_type": "code",
   "execution_count": 9,
   "metadata": {},
   "outputs": [
    {
     "name": "stdout",
     "output_type": "stream",
     "text": [
      "--- Resultados del Modelo: Random Forest ---\n",
      "Precisión (Accuracy): 0.72\n",
      "Reporte de Clasificación:\n",
      "              precision    recall  f1-score   support\n",
      "\n",
      "       False       0.73      0.98      0.84       365\n",
      "        True       0.14      0.01      0.01       135\n",
      "\n",
      "    accuracy                           0.72       500\n",
      "   macro avg       0.44      0.50      0.43       500\n",
      "weighted avg       0.57      0.72      0.61       500\n",
      "\n"
     ]
    }
   ],
   "source": [
    "# Crear y entrenar el modelo Random Forest\n",
    "rf_model = RandomForestClassifier(random_state=42, n_estimators=100)\n",
    "rf_model.fit(X_train_scaled, y_train)\n",
    "\n",
    "# Predicciones\n",
    "y_pred_rf = rf_model.predict(X_test_scaled)\n",
    "\n",
    "# Evaluación\n",
    "print('--- Resultados del Modelo: Random Forest ---')\n",
    "print('Precisión (Accuracy):', accuracy_score(y_test, y_pred_rf))\n",
    "print('Reporte de Clasificación:')\n",
    "print(classification_report(y_test, y_pred_rf))"
   ]
  },
  {
   "cell_type": "markdown",
   "metadata": {},
   "source": [
    "### 5.2. Modelo 2: XGBoost Classifier"
   ]
  },
  {
   "cell_type": "code",
   "execution_count": 10,
   "metadata": {},
   "outputs": [
    {
     "name": "stdout",
     "output_type": "stream",
     "text": [
      "--- Resultados del Modelo: XGBoost ---\n",
      "Precisión (Accuracy): 0.674\n",
      "Reporte de Clasificación:\n",
      "              precision    recall  f1-score   support\n",
      "\n",
      "       False       0.73      0.87      0.80       365\n",
      "        True       0.29      0.14      0.19       135\n",
      "\n",
      "    accuracy                           0.67       500\n",
      "   macro avg       0.51      0.51      0.49       500\n",
      "weighted avg       0.61      0.67      0.63       500\n",
      "\n"
     ]
    },
    {
     "name": "stderr",
     "output_type": "stream",
     "text": [
      "c:\\Users\\ttvga\\anaconda3\\Lib\\site-packages\\xgboost\\training.py:183: UserWarning: [16:06:26] WARNING: C:\\actions-runner\\_work\\xgboost\\xgboost\\src\\learner.cc:738: \n",
      "Parameters: { \"use_label_encoder\" } are not used.\n",
      "\n",
      "  bst.update(dtrain, iteration=i, fobj=obj)\n"
     ]
    }
   ],
   "source": [
    "# Crear y entrenar el modelo XGBoost\n",
    "xgb_model = XGBClassifier(random_state=42, use_label_encoder=False, eval_metric='logloss')\n",
    "xgb_model.fit(X_train_scaled, y_train)\n",
    "\n",
    "# Predicciones\n",
    "y_pred_xgb = xgb_model.predict(X_test_scaled)\n",
    "\n",
    "# Evaluación\n",
    "print('--- Resultados del Modelo: XGBoost ---')\n",
    "print('Precisión (Accuracy):', accuracy_score(y_test, y_pred_xgb))\n",
    "print('Reporte de Clasificación:')\n",
    "print(classification_report(y_test, y_pred_xgb))"
   ]
  },
  {
   "cell_type": "markdown",
   "metadata": {},
   "source": [
    "## 6. Conclusión\n",
    "Ambos modelos muestran un rendimiento similar, con una precisión cercana al 65-67%. El reporte de clasificación detallado muestra que ambos modelos tienen un desempeño balanceado para predecir tanto la clase 0 (sin enfermedades crónicas) como la clase 1 (con enfermedades crónicas), a juzgar por las métricas de precisión y recall.\n",
    "\n",
    "El modelo XGBoost es ligeramente superior en la mayoría de las métricas. Para mejorar los resultados, se podría realizar una ingeniería de características más avanzada o probar con el ajuste de hiperparámetros de los modelos."
   ]
  }
 ],
 "metadata": {
  "kernelspec": {
   "display_name": "base",
   "language": "python",
   "name": "python3"
  },
  "language_info": {
   "codemirror_mode": {
    "name": "ipython",
    "version": 3
   },
   "file_extension": ".py",
   "mimetype": "text/x-python",
   "name": "python",
   "nbconvert_exporter": "python",
   "pygments_lexer": "ipython3",
   "version": "3.12.7"
  }
 },
 "nbformat": 4,
 "nbformat_minor": 4
}
